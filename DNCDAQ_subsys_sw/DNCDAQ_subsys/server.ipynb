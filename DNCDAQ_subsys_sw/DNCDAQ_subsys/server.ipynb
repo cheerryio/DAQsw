{
    "cells": [
        {
            "cell_type": "markdown",
            "metadata": {},
            "source": [
                "# TCP数据格式\n",
                "直接传的，什么都没管，但是这样肯定有问题\n",
                "我用python的recv一次最多接受一个tcp包，大小1444B作为测试。。。。。。"
            ]
        },
        {
            "cell_type": "markdown",
            "metadata": {},
            "source": [
                "# 采集数据格式\n",
                "\n",
                "AD采集到24位数据。在网络中以32位数据形式，小端形式发送。高8位全0，低24位为真实数据。"
            ]
        },
        {
            "cell_type": "markdown",
            "metadata": {},
            "source": [
                "# 测试步骤\n",
                "1. 运行以下每一个代码块\n",
                "2. 设置函数发生器对应参数\n",
                "3. 在def.hpp文件中配置参数\n",
                "4. 将硬件软件程序烧到FPGA开发板，等待FPGA向电脑上的socket发送数据\n",
                "5. 得到数据，展示波形。对比得到的波形的频率"
            ]
        },
        {
            "cell_type": "code",
            "execution_count": null,
            "metadata": {},
            "outputs": [],
            "source": [
                "# -*- coding:utf-8 -*-\n",
                "import socket\n",
                "import traceback\n",
                "import struct\n",
                "from typing import *\n",
                "\n",
                "import matplotlib_inline\n",
                "import matplotlib.pyplot as plt"
            ]
        },
        {
            "cell_type": "markdown",
            "metadata": {},
            "source": [
                "## get_data  (host:str,port:int,continuous_disp:bool)->Tuple\n",
                "调用此函数完成测试\n",
                "\n",
                "`host`: 本地服务器ip地址\n",
                "\n",
                "`port`: 本地服务器端口\n",
                "\n",
                "`continuous_disp`: 没有用\n",
                "\n",
                "`SAMPLE_DATA`: 服务器收集数据个数\n",
                "\n",
                "返回数据"
            ]
        },
        {
            "cell_type": "code",
            "execution_count": null,
            "metadata": {},
            "outputs": [],
            "source": [
                "SAMPLE_DATA=849288\n",
                "def get_data(host:str,port:int,continuous_disp=False)->Tuple[Optional[List[int]],bytes]:\n",
                "    address=(host,port)\n",
                "\n",
                "    s = socket.socket(socket.AF_INET, socket.SOCK_STREAM)\n",
                "    s.setsockopt(socket.IPPROTO_TCP,socket.TCP_MAXSEG,1460)\n",
                "    s.bind(address)\n",
                "    s.listen(1)\n",
                "\n",
                "    print(\"Waiting for connections...\")\n",
                "    try:\n",
                "        client_connection, client_address = s.accept()\n",
                "    except KeyboardInterrupt:\n",
                "        raise\n",
                "    except:\n",
                "        traceback.print_exc()\n",
                "\n",
                "    try:\n",
                "        print(\"Got connection from\", client_connection.getpeername())\n",
                "        raw_buf=b''\n",
                "        raw_data:List[int]=[]\n",
                "        data:List[int]=[]\n",
                "        while True:\n",
                "            buf = client_connection.recv(SAMPLE_DATA*4)\n",
                "            if len(buf) == 0:\n",
                "                continue\n",
                "            else:\n",
                "                i=0\n",
                "                while i*4+4<=len(buf):\n",
                "                    t=struct.unpack(\"<I\",buf[i*4:i*4+3]+(b'\\x00' if buf[i*4+2]<128 else b'\\xff'))[0]\n",
                "                    t=t|-(t&0x80000000)\n",
                "                    data.append(t)\n",
                "                    i=i+1\n",
                "                s.close()\n",
                "                return (raw_buf,raw_data,data)        \n",
                "    except (KeyboardInterrupt, SystemError):\n",
                "        raise\n",
                "    except:\n",
                "        traceback.print_exc()"
            ]
        },
        {
            "cell_type": "markdown",
            "metadata": {},
            "source": [
                "## 10KHz,2.5Vpp"
            ]
        },
        {
            "cell_type": "code",
            "execution_count": null,
            "metadata": {},
            "outputs": [],
            "source": [
                "raw_buf,raw_data,data=get_data(\"192.168.0.10\",5001)\n",
                "plt.plot(data)"
            ]
        },
        {
            "cell_type": "markdown",
            "metadata": {},
            "source": [
                "## 40KHz,2.5Vpp"
            ]
        },
        {
            "cell_type": "code",
            "execution_count": null,
            "metadata": {},
            "outputs": [],
            "source": [
                "raw_buf,raw_data,data=get_data(\"192.168.0.10\",5001)\n",
                "plt.plot(data)"
            ]
        },
        {
            "cell_type": "markdown",
            "metadata": {},
            "source": [
                "## 80KHz,2.5Vpp"
            ]
        },
        {
            "cell_type": "code",
            "execution_count": null,
            "metadata": {},
            "outputs": [],
            "source": [
                "raw_buf,raw_data,data=get_data(\"192.168.0.10\",5001)\n",
                "plt.plot(data[0:100])"
            ]
        },
        {
            "cell_type": "markdown",
            "metadata": {},
            "source": [
                "## 120KHz,2.5Vpp"
            ]
        },
        {
            "cell_type": "code",
            "execution_count": null,
            "metadata": {},
            "outputs": [],
            "source": [
                "raw_buf,raw_data,data=get_data(\"192.168.0.10\",5001)\n",
                "plt.plot(data[200:280])"
            ]
        },
        {
            "cell_type": "markdown",
            "metadata": {},
            "source": [
                "## 160KHz,2.5Vpp"
            ]
        },
        {
            "cell_type": "code",
            "execution_count": null,
            "metadata": {},
            "outputs": [],
            "source": [
                "raw_buf,raw_data,data=get_data(\"192.168.0.10\",5001)\n",
                "plt.plot(data[200:250])"
            ]
        },
        {
            "cell_type": "markdown",
            "metadata": {},
            "source": [
                "## 200KHz,2.5Vpp"
            ]
        },
        {
            "cell_type": "code",
            "execution_count": null,
            "metadata": {},
            "outputs": [],
            "source": [
                "raw_buf,raw_data,data=get_data(\"192.168.0.10\",5001)\n",
                "plt.plot(data[100:130])"
            ]
        },
        {
            "cell_type": "markdown",
            "metadata": {},
            "source": [
                "## 240KHz,2.5Vpp"
            ]
        },
        {
            "cell_type": "code",
            "execution_count": null,
            "metadata": {},
            "outputs": [],
            "source": [
                "raw_buf,raw_data,data=get_data(\"192.168.0.10\",5001)\n",
                "plt.plot(data[100:120])"
            ]
        },
        {
            "cell_type": "markdown",
            "metadata": {},
            "source": [
                "## 280KHz,2.5Vpp"
            ]
        },
        {
            "cell_type": "code",
            "execution_count": null,
            "metadata": {},
            "outputs": [],
            "source": [
                "raw_buf,raw_data,data=get_data(\"192.168.0.10\",5001)\n",
                "plt.plot(data[100:120])"
            ]
        },
        {
            "cell_type": "markdown",
            "metadata": {},
            "source": [
                "## TEST"
            ]
        },
        {
            "cell_type": "code",
            "execution_count": 1,
            "metadata": {},
            "outputs": [],
            "source": [
                "# -*- coding:utf-8 -*-\n",
                "import socket\n",
                "import traceback\n",
                "import struct\n",
                "from typing import *\n",
                "\n",
                "import matplotlib_inline\n",
                "import matplotlib.pyplot as plt\n",
                "SAMPLE_DATA=2000000\n",
                "def get_data(s)->Tuple[Optional[List[int]],bytes]:\n",
                "    try:\n",
                "        raw_buf=b''\n",
                "        raw_data:List[int]=[]\n",
                "        data:List[int]=[]\n",
                "        while True:\n",
                "            buf = client_connection.recv(SAMPLE_DATA*4)\n",
                "            if len(buf) == 0:\n",
                "                continue\n",
                "            else:\n",
                "                raw_buf=raw_buf+buf\n",
                "                if len(raw_buf)>SAMPLE_DATA*4 and len(raw_buf)%4==0:\n",
                "                    break\n",
                "        i=0\n",
                "        while i*4+4<=len(raw_buf):\n",
                "            t=struct.unpack(\"<I\",raw_buf[i*4:i*4+3]+(b'\\x00' if raw_buf[i*4+2]<128 else b'\\xff'))[0]\n",
                "            t=t|-(t&0x80000000)\n",
                "            data.append(t)\n",
                "            i=i+1\n",
                "        return (raw_buf,raw_data,data)        \n",
                "    except (KeyboardInterrupt, SystemError):\n",
                "        raise\n",
                "    except:\n",
                "        traceback.print_exc()"
            ]
        },
        {
            "cell_type": "code",
            "execution_count": 8,
            "metadata": {},
            "outputs": [
                {
                    "name": "stdout",
                    "output_type": "stream",
                    "text": [
                        "Waiting for connections...\n",
                        "getting data:%d 0\n",
                        "getting data:%d 1\n",
                        "getting data:%d 2\n",
                        "getting data:%d 3\n",
                        "getting data:%d 4\n",
                        "getting data:%d 5\n",
                        "getting data:%d 6\n",
                        "getting data:%d 7\n",
                        "getting data:%d 8\n",
                        "getting data:%d 9\n",
                        "getting data:%d 10\n",
                        "getting data:%d 11\n",
                        "getting data:%d 12\n",
                        "getting data:%d 13\n",
                        "getting data:%d 14\n",
                        "getting data:%d 15\n",
                        "getting data:%d 16\n",
                        "getting data:%d 17\n",
                        "getting data:%d 18\n",
                        "getting data:%d 19\n"
                    ]
                }
            ],
            "source": [
                "address=(\"192.168.0.144\",5011)\n",
                "\n",
                "s=socket.socket(socket.AF_INET, socket.SOCK_STREAM)\n",
                "s.setsockopt(socket.IPPROTO_TCP,socket.TCP_MAXSEG,1460)\n",
                "s.bind(address)\n",
                "s.listen(1)\n",
                "print(\"Waiting for connections...\")\n",
                "try:\n",
                "    client_connection, client_address = s.accept()\n",
                "except KeyboardInterrupt:\n",
                "    raise\n",
                "except:\n",
                "    traceback.print_exc()\n",
                "datas=[]\n",
                "for i in range(20):\n",
                "    print(\"getting data:%d\",i)\n",
                "    raw_buf,raw_data,data=get_data(s)\n",
                "    datas=datas+data\n",
                "s.close()"
            ]
        },
        {
            "cell_type": "code",
            "execution_count": 10,
            "metadata": {},
            "outputs": [
                {
                    "data": {
                        "text/plain": [
                            "[<matplotlib.lines.Line2D at 0x7f0d3406d490>]"
                        ]
                    },
                    "execution_count": 10,
                    "metadata": {},
                    "output_type": "execute_result"
                },
                {
                    "data": {
                        "image/png": "[encoded data removed]",
                        "text/plain": [
                            "<Figure size 432x288 with 1 Axes>"
                        ]
                    },
                    "metadata": {
                        "needs_background": "light"
                    },
                    "output_type": "display_data"
                }
            ],
            "source": [
                "i=36\n",
                "plt.plot(datas[500:5000])"
            ]
        },
        {
            "cell_type": "code",
            "execution_count": 9,
            "metadata": {},
            "outputs": [],
            "source": [
                "import scipy.io\n",
                "scipy.io.savemat(\"/home/dn/datas.mat\",dict([(\"datas\",datas)]))"
            ]
        },
        {
            "cell_type": "code",
            "execution_count": 11,
            "metadata": {},
            "outputs": [],
            "source": [
                "import scipy.io\n",
                "a=scipy.io.loadmat(\"/home/dn/datas.mat\")\n",
                "datas=a[\"datas\"]"
            ]
        },
        {
            "cell_type": "code",
            "execution_count": 6,
            "metadata": {},
            "outputs": [
                {
                    "name": "stdout",
                    "output_type": "stream",
                    "text": [
                        "error\n",
                        "error\n",
                        "error\n",
                        "error\n",
                        "error\n",
                        "error\n",
                        "error\n"
                    ]
                }
            ],
            "source": [
                "for i in range(len(datas)-1):\n",
                "    if abs(datas[i]-datas[i+1]>1000000):\n",
                "        print(\"error\")"
            ]
        }
    ],
    "metadata": {
        "interpreter": {
            "hash": "e7370f93d1d0cde622a1f8e1c04877d8463912d04d973331ad4851f04de6915a"
        },
        "kernelspec": {
            "display_name": "Python 3.8.10 64-bit",
            "name": "python3"
        },
        "language_info": {
            "codemirror_mode": {
                "name": "ipython",
                "version": 3
            },
            "file_extension": ".py",
            "mimetype": "text/x-python",
            "name": "python",
            "nbconvert_exporter": "python",
            "pygments_lexer": "ipython3",
            "version": "3.8.10"
        },
        "orig_nbformat": 4
    },
    "nbformat": 4,
    "nbformat_minor": 2
}
